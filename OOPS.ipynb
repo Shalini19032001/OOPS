{
  "nbformat": 4,
  "nbformat_minor": 0,
  "metadata": {
    "colab": {
      "provenance": []
    },
    "kernelspec": {
      "name": "python3",
      "display_name": "Python 3"
    },
    "language_info": {
      "name": "python"
    }
  },
  "cells": [
    {
      "cell_type": "markdown",
      "source": [
        "#Python OOPs Questions"
      ],
      "metadata": {
        "id": "j7_QYuVI-nrj"
      }
    },
    {
      "cell_type": "markdown",
      "source": [
        "1. What is Object-Oriented Programming (OOP)?\n",
        "\n",
        "- OOP is a programming paradigm that organizes code using classes and objects to model real-world entities. It focuses on principles like inheritance, encapsulation, polymorphism, and abstraction."
      ],
      "metadata": {
        "id": "PfSqn_6J--ZE"
      }
    },
    {
      "cell_type": "markdown",
      "source": [
        "2. What is a class in OOP?\n",
        "\n",
        "- A class is a blueprint for creating objects. It defines properties (attributes) and behaviors (methods) that its objects will have."
      ],
      "metadata": {
        "id": "O_v-ktrE_Gqs"
      }
    },
    {
      "cell_type": "markdown",
      "source": [
        "3.What is an object in OOP?\n",
        "\n",
        "- An object is an instance of a class. It contains data (attributes) and methods that act on the data."
      ],
      "metadata": {
        "id": "nannZ2g5_PuV"
      }
    },
    {
      "cell_type": "markdown",
      "source": [
        "4. What is the difference between abstraction and encapsulation?\n",
        "\n",
        "- Abstraction: Hides implementation details and shows only essential features. Achieved using abstract classes and interfaces.\n",
        "- Encapsulation: Bundles data (attributes) and methods that operate on the data into a single unit (class) and restricts direct access."
      ],
      "metadata": {
        "id": "glHcTEaE_XKw"
      }
    },
    {
      "cell_type": "markdown",
      "source": [
        "5. What are dunder methods in Python?\n",
        "\n",
        "- Dunder methods (double underscore methods) like __init__, __str__, and __repr__ are special methods that provide built-in functionality to classes."
      ],
      "metadata": {
        "id": "vbmsRzW9_fkr"
      }
    },
    {
      "cell_type": "markdown",
      "source": [
        "6.Explain the concept of inheritance in OOP.\n",
        "\n",
        "- Inheritance allows one class (child) to inherit attributes and methods from another class (parent), promoting code reuse."
      ],
      "metadata": {
        "id": "zl4OLjGM_qkm"
      }
    },
    {
      "cell_type": "markdown",
      "source": [
        "7.What is polymorphism in OOP?\n",
        "\n",
        "- Polymorphism allows objects of different classes to be treated as objects of a common base class. It enables methods with the same name to behave differently based on the object."
      ],
      "metadata": {
        "id": "3cMWl2Fn_07D"
      }
    },
    {
      "cell_type": "markdown",
      "source": [
        "8. How is encapsulation achieved in Python?\n",
        "\n",
        "- Encapsulation is achieved using private attributes (prefix with _ or __) and providing getter and setter methods."
      ],
      "metadata": {
        "id": "ARXEw1SA_8FA"
      }
    },
    {
      "cell_type": "markdown",
      "source": [
        "9. What is a constructor in Python?\n",
        "\n",
        "- A constructor (__init__ method) is automatically called when an object is created. It initializes the object's attributes."
      ],
      "metadata": {
        "id": "dvGzsLBIAC1z"
      }
    },
    {
      "cell_type": "markdown",
      "source": [
        "10. What are class and static methods in Python?\n",
        "\n",
        "- Class Method: Defined using @classmethod. It takes cls as the first parameter and can modify class-level data.\n",
        "- Static Method: Defined using @staticmethod. It does not access class or instance data."
      ],
      "metadata": {
        "id": "LE2jXjGRAJ4X"
      }
    },
    {
      "cell_type": "markdown",
      "source": [
        "11. What is method overloading in Python?\n",
        "\n",
        "- Python does not support traditional method overloading. Instead, default arguments can achieve similar functionality."
      ],
      "metadata": {
        "id": "wIVp9k3EAThd"
      }
    },
    {
      "cell_type": "markdown",
      "source": [
        "12. What is method overriding in OOP?\n",
        "\n",
        "- Method overriding occurs when a child class provides its own implementation of a method that is already defined in its parent class."
      ],
      "metadata": {
        "id": "_8q70JSGAau4"
      }
    },
    {
      "cell_type": "markdown",
      "source": [
        "13. What is a property decorator in Python?\n",
        "\n",
        "- The @property decorator is used to define getter methods in a class, making attribute access more intuitive."
      ],
      "metadata": {
        "id": "AnntgrDZAhfp"
      }
    },
    {
      "cell_type": "markdown",
      "source": [
        "14. Why is polymorphism important in OOP?\n",
        "\n",
        "- Polymorphism enhances flexibility and code reuse by allowing different classes to share common interfaces."
      ],
      "metadata": {
        "id": "UoImm1aCAoSL"
      }
    },
    {
      "cell_type": "markdown",
      "source": [
        "15. What is an abstract class in Python?\n",
        "\n",
        "- An abstract class is a class that cannot be instantiated and requires derived classes to implement its abstract methods."
      ],
      "metadata": {
        "id": "ZGzZICSIAvx8"
      }
    },
    {
      "cell_type": "markdown",
      "source": [
        "16. What are the advantages of OOP?\n",
        "\n",
        "- Code reusability\n",
        "- Enhanced security through encapsulation\n",
        "- Easy maintenance and scalability\n",
        "- Improved data organization"
      ],
      "metadata": {
        "id": "RGu9ky_HA3bd"
      }
    },
    {
      "cell_type": "markdown",
      "source": [
        "17.What is the difference between a class variable and an instance variable?\n",
        "\n",
        "- Class Variable: Shared across all instances of the class.\n",
        "- Instance Variable: Unique to each object."
      ],
      "metadata": {
        "id": "8rt1GKtuA_sJ"
      }
    },
    {
      "cell_type": "markdown",
      "source": [
        "18. What is multiple inheritance in Python?\n",
        "\n",
        "- Multiple inheritance allows a class to inherit from more than one parent class."
      ],
      "metadata": {
        "id": "T-iVuzdBOq2f"
      }
    },
    {
      "cell_type": "markdown",
      "source": [
        "19. Explain the purpose of ‘’__str__’ and ‘__repr__’ ‘ methods in Python.\n",
        "\n",
        "- __str__: Provides a user-friendly string representation of an object.\n",
        "- __repr__: Provides a technical string representation for developers."
      ],
      "metadata": {
        "id": "DjfMLRDMOyEe"
      }
    },
    {
      "cell_type": "markdown",
      "source": [
        "20. What is the significance of the ‘super()’ function in Python?\n",
        "\n",
        "- The super() function is used to call the methods of the parent class in the child class."
      ],
      "metadata": {
        "id": "Lo63mvjwO-UM"
      }
    },
    {
      "cell_type": "markdown",
      "source": [
        "21. What is the significance of the __del__ method in Python?\n",
        "\n",
        "- The __del__ method is a destructor that is called when an object is deleted."
      ],
      "metadata": {
        "id": "E_DtCyZDPGjD"
      }
    },
    {
      "cell_type": "markdown",
      "source": [
        "22. What is the difference between @staticmethod and @classmethod in Python?\n",
        "\n",
        "- @staticmethod: No self or cls required; independent of class and object.\n",
        "- @classmethod: Uses cls to access class-level data."
      ],
      "metadata": {
        "id": "6FGLOBTdPO4i"
      }
    },
    {
      "cell_type": "markdown",
      "source": [
        "23. How does polymorphism work in Python with inheritance?\n",
        "\n",
        "- Polymorphism allows derived classes to override methods from the base class, enabling different implementations with the same method name."
      ],
      "metadata": {
        "id": "KcwF3EQVPgeO"
      }
    },
    {
      "cell_type": "markdown",
      "source": [
        "24. What is method chaining in Python OOP?\n",
        "\n",
        "- Method chaining allows multiple methods to be called on the same object in a single statement by returning self."
      ],
      "metadata": {
        "id": "HAYR6qMJPpKU"
      }
    },
    {
      "cell_type": "markdown",
      "source": [
        "25. What is the purpose of the __call__ method in Python?\n",
        "\n",
        "- Purpose of __call__ method in Python:\n",
        "The __call__ method allows an object to be invoked like a function."
      ],
      "metadata": {
        "id": "JOxrEP0pPylp"
      }
    },
    {
      "cell_type": "markdown",
      "source": [
        "#PRACTICAL QUESTIONS"
      ],
      "metadata": {
        "id": "Q7MhUHWiQBSM"
      }
    },
    {
      "cell_type": "markdown",
      "source": [
        "1. Create a parent class Animal with a method speak() that prints a generic message. Create a child class Dog\n",
        "that overrides the speak() method to print \"Bark!\".\n",
        "\n",
        "            class Animal:\n",
        "            def speak(self):\n",
        "        print(\"This is an animal sound.\")\n",
        "\n",
        "            class Dog(Animal):\n",
        "            def speak(self):\n",
        "            print(\"Bark!\")\n",
        "\n",
        "           Output: bark"
      ],
      "metadata": {
        "id": "bnnqPfrNQSk3"
      }
    },
    {
      "cell_type": "markdown",
      "source": [
        "2. Write a program to create an abstract class Shape with a method area(). Derive classes Circle and Rectangle\n",
        "from it and implement the area() method in both.\n",
        "\n",
        "           from abc import ABC,        abstractmethod\n",
        "\n",
        "            class Shape(ABC):\n",
        "            @abstractmethod\n",
        "           def area(self):\n",
        "                pass\n",
        "\n",
        "           class Circle(Shape):\n",
        "          def __init__(self, radius):\n",
        "             self.radius = radius\n",
        "\n",
        "               def area(self):\n",
        "         return 3.14 * self.radius ** 2\n",
        "\n",
        "        class Rectangle(Shape):\n",
        "        def __init__(self, length, width):\n",
        "        self.length = length\n",
        "        self.width = width\n",
        "\n",
        "            def area(self):\n",
        "          return self.length * self.width"
      ],
      "metadata": {
        "id": "4CGXuZS6QyrE"
      }
    },
    {
      "cell_type": "markdown",
      "source": [
        "3. Implement a multi-level inheritance scenario where a class Vehicle has an attribute type. Derive a class Car\n",
        "and further derive a class ElectricCar that adds a battery attribute.\n",
        "\n",
        "\n",
        "        class Vehicle:\n",
        "        def __init__(self, type):\n",
        "        self.type = type\n",
        "\n",
        "        class Car(Vehicle):\n",
        "        def __init__(self, type, brand):\n",
        "        super().__init__(type)\n",
        "        self.brand = brand\n",
        "\n",
        "        class ElectricCar(Car):\n",
        "        def __init__(self, type, brand, battery):\n",
        "        super().__init__(type, brand)\n",
        "        self.battery = battery"
      ],
      "metadata": {
        "id": "DtcLOHRaRV7z"
      }
    },
    {
      "cell_type": "markdown",
      "source": [
        "4. Demonstrate polymorphism by creating a base class Bird with a method fly(). Create two derived classes\n",
        "Sparrow and Penguin that override the fly() method.\n",
        "\n",
        "       class Bird:\n",
        "       def fly(self):\n",
        "       print(\"Birds can generally fly.\")\n",
        "\n",
        "       class Sparrow(Bird):\n",
        "       def fly(self):\n",
        "       print(\"Sparrow flies high.\")\n",
        "\n",
        "       class Penguin(Bird):\n",
        "       def fly(self):\n",
        "        print(\"Penguins cannot fly but swim well.\")"
      ],
      "metadata": {
        "id": "5zjU4hfDRy1_"
      }
    },
    {
      "cell_type": "markdown",
      "source": [
        "5. Write a program to demonstrate encapsulation by creating a class BankAccount with private attributes\n",
        "balance and methods to deposit, withdraw, and check balance.\n",
        "\n",
        "        class Bank account:\n",
        "        def __init__(self, balance=0):\n",
        "        self.__balance = balance\n",
        "\n",
        "        def deposit(self, amount):\n",
        "        self.__balance += amount\n",
        "        print(f\"Deposited: {amount}\")\n",
        "\n",
        "        def withdraw(self, amount):\n",
        "        if amount <= self.__balance:\n",
        "            self.__balance -= amount\n",
        "            print(f\"Withdrawn: {amount}\")\n",
        "        else:\n",
        "            print(\"Insufficient funds\")\n",
        "\n",
        "         def check_balance(self):\n",
        "        print(f\"Balance: {self.__balance}\")"
      ],
      "metadata": {
        "id": "EUmE5Q82SRhs"
      }
    },
    {
      "cell_type": "markdown",
      "source": [
        "6. Demonstrate runtime polymorphism using a method play() in a base class Instrument. Derive classes Guitar\n",
        "and Piano that implement their own version of play().\n",
        "\n",
        "       class Instrument:\n",
        "        def play(self):\n",
        "        print(\"Playing an instrument...\")\n",
        "\n",
        "       class Guitar(Instrument):\n",
        "        def play(self):\n",
        "        print(\"Playing Guitar\")\n",
        "\n",
        "        class Piano(Instrument):\n",
        "        def play(self):\n",
        "        print(\"Playing Piano\")"
      ],
      "metadata": {
        "id": "fj3gIo0_Szvd"
      }
    },
    {
      "cell_type": "markdown",
      "source": [
        "7. Create a class Math Operations with a class method add_numbers() to add two numbers and a static\n",
        "method subtract_numbers() to subtract two numbers.\n",
        "\n",
        "       class MathOperations:\n",
        "       @classmethod\n",
        "       def add_numbers(cls, a, b):\n",
        "        return a + b\n",
        "\n",
        "        @staticmethod\n",
        "        def subtract_numbers(a, b):\n",
        "        return a - b"
      ],
      "metadata": {
        "id": "Vit1VgOFTE8e"
      }
    },
    {
      "cell_type": "markdown",
      "source": [
        "8. Implement a class Person with a class method to count the total number of persons created.\n",
        "\n",
        "         class Person:\n",
        "         count = 0\n",
        "\n",
        "         def __init__(self):\n",
        "         Person.count += 1"
      ],
      "metadata": {
        "id": "864SVPHITSlO"
      }
    },
    {
      "cell_type": "markdown",
      "source": [
        "9. Write a class Fraction with attributes numerator and denominator. Override the str method to display the\n",
        "fraction as \"numerator/denominator\".\n",
        "\n",
        "        class Fraction:\n",
        "        def __init__(self, numerator, denominator):\n",
        "        self.numerator = numerator\n",
        "        self.denominator = denominator\n",
        "\n",
        "        def __str__(self):\n",
        "        return f\".{self.numerator}/{self.denominator}\""
      ],
      "metadata": {
        "id": "2SM06EWOTr76"
      }
    },
    {
      "cell_type": "markdown",
      "source": [
        "10. Demonstrate operator overloading by creating a class Vector and overriding the add method to add two\n",
        "vectors.\n",
        "\n",
        "           class Vector:\n",
        "           def __init__(self, x, y):\n",
        "           self.x = x\n",
        "           self.y = y\n",
        "\n",
        "          def __add__(self, other):\n",
        "        return Vector(self.x + other.x, self.y + other.y)\n",
        "\n",
        "          def __str__(self):\n",
        "        return f\"Vector({self.x}, {self.y})\""
      ],
      "metadata": {
        "id": "wPg9ySxOT-So"
      }
    },
    {
      "cell_type": "markdown",
      "source": [
        "11. Create a class Person with attributes name and age. Add a method greet() that prints \"Hello, my name is\n",
        "{name} and I am {age} years old.\"\n",
        "\n",
        "           class Person:\n",
        "          def __init__(self, name, age):\n",
        "           self.name = name\n",
        "           self.age = age\n",
        "\n",
        "           def greet(self):\n",
        "          print(f\"Hello, my name is {self.name} and I am {self.age} years old.\")"
      ],
      "metadata": {
        "id": "i-C2qD-fUeNt"
      }
    },
    {
      "cell_type": "markdown",
      "source": [
        "12. Implement a class Student with attributes name and grades. Create a method average_grade() to compute\n",
        "the average of the grades.\n",
        "\n",
        "         class Student:\n",
        "         def __init__(self, name, grades):\n",
        "         self.name = name\n",
        "         self.grades = grades\n",
        "\n",
        "         def average_grade(self):\n",
        "        return sum(self.grades) / len(self.grades)"
      ],
      "metadata": {
        "id": "TITdgpv_UvlZ"
      }
    },
    {
      "cell_type": "markdown",
      "source": [
        "13. Create a class Rectangle with methods set_dimensions() to set the dimensions and area() to calculate the\n",
        "area.\n",
        "\n",
        "         class Rectangle:\n",
        "         def set_dimensions(self, length, width):\n",
        "        self.length = length\n",
        "        self.width = width\n",
        "\n",
        "         def area(self):\n",
        "        return self.length * self.width"
      ],
      "metadata": {
        "id": "jHsA-46wUwvh"
      }
    },
    {
      "cell_type": "markdown",
      "source": [
        "14. Create a class Employee with a method calculate_salary() that computes the salary based on hours worked\n",
        "and hourly rate. Create a derived class Manager that adds a bonus to the salary.\n",
        "\n",
        "         class Employee:\n",
        "         def __init__(self, hours, rate):\n",
        "         self.hours = hours\n",
        "         self.rate = rate\n",
        "\n",
        "         def calculate_salary(self):\n",
        "        return self.hours * self.rate\n",
        "\n",
        "         class Manager(Employee):\n",
        "        def __init__(self, hours, rate, bonus):\n",
        "        super().__init__(hours, rate)\n",
        "        self.bonus = bonus\n",
        "\n",
        "         def calculate_salary(self):\n",
        "        return super().calculate_salary() + self.bonus"
      ],
      "metadata": {
        "id": "bnDLP1DEUxZe"
      }
    },
    {
      "cell_type": "markdown",
      "source": [
        "15. Create a class Product with attributes name, price, and quantity. Implement a method total_price() that\n",
        "calculates the total price of the product.\n",
        "\n",
        "          class Product:\n",
        "         def __init__(self, name, price, quantity):\n",
        "        self.name = name\n",
        "        self.price = price\n",
        "        self.quantity = quantity\n",
        "\n",
        "        def total_price(self):\n",
        "        return self.price * self.quantity"
      ],
      "metadata": {
        "id": "eE_Bt5acUyA0"
      }
    },
    {
      "cell_type": "markdown",
      "source": [
        "16. Create a class Animal with an abstract method sound(). Create two derived classes Cow and Sheep that\n",
        "implement the sound() method.\n",
        "\n",
        "from abc import ABC, abstractmethod\n",
        "\n",
        "          class Animal(ABC):\n",
        "          @abstractmethod\n",
        "          def sound(self):\n",
        "            pass\n",
        "\n",
        "          class Cow(Animal):\n",
        "          def sound(self):\n",
        "            print(\"Moo\")\n",
        "\n",
        "        class Sheep(Animal):\n",
        "           def sound(self):\n",
        "            print(\"Baa\")"
      ],
      "metadata": {
        "id": "7tNaxRfXUyma"
      }
    },
    {
      "cell_type": "markdown",
      "source": [
        "17. Create a class Book with attributes title, author, and year_published. Add a method get_book_info() that\n",
        "returns a formatted string with the book's details.\n",
        "\n",
        "         class Book:\n",
        "         def __init__(self, title, author, year_published):\n",
        "        self.title = title\n",
        "        self.author = author\n",
        "        self.year_published = year_published\n",
        "\n",
        "         def get_book_info(self):\n",
        "        return f\"{self.title} by {self.author}, published in {self.year_published}.\""
      ],
      "metadata": {
        "id": "89JfnI6sUzKi"
      }
    },
    {
      "cell_type": "markdown",
      "source": [
        "18. Create a class House with attributes address and price. Create a derived class Mansion that adds an\n",
        "attribute number_of_rooms.\n",
        "\n",
        "        class House:\n",
        "        def __init__(self, address, price):\n",
        "        self.address = address\n",
        "        self.price = price\n",
        "\n",
        "        class Mansion(House):\n",
        "        def __init__(self, address, price, number_of_rooms):\n",
        "        super().__init__(address, price)\n",
        "        self.number_of_rooms = number_of_rooms"
      ],
      "metadata": {
        "id": "p-9exNEGUzxT"
      }
    }
  ]
}